{
 "cells": [
  {
   "cell_type": "code",
   "execution_count": 1,
   "metadata": {},
   "outputs": [],
   "source": [
    "import pandas\n",
    "import numpy\n",
    "import os\n",
    "import sys\n",
    "import json\n",
    "from erlab_coat.preprocessing import *\n",
    "from erlab_coat.meta import *"
   ]
  },
  {
   "cell_type": "code",
   "execution_count": 2,
   "metadata": {},
   "outputs": [],
   "source": [
    "path = './'"
   ]
  },
  {
   "cell_type": "code",
   "execution_count": 3,
   "metadata": {},
   "outputs": [
    {
     "name": "stderr",
     "output_type": "stream",
     "text": [
      "/Users/mednet_machine/myenv/lib/python3.7/site-packages/IPython/core/interactiveshell.py:3248: DtypeWarning: Columns (3) have mixed types. Specify dtype option on import or set low_memory=False.\n",
      "  if (await self.run_code(code, result,  async_=asy)):\n"
     ]
    }
   ],
   "source": [
    "collection = parse_erlab_covid19_glance_collection(path)"
   ]
  },
  {
   "cell_type": "code",
   "execution_count": 4,
   "metadata": {},
   "outputs": [],
   "source": [
    "#def preprocess_collection(collection):\n"
   ]
  },
  {
   "cell_type": "code",
   "execution_count": 5,
   "metadata": {},
   "outputs": [],
   "source": [
    "## preprocessing\n",
    "for key in preprocessings.keys():\n",
    "    for table_name in preprocessings[key].keys():\n",
    "        table = collection[key][table_name].copy()\n",
    "        lambdas = preprocessings[key][table_name]['lambdas']\n",
    "        renames = preprocessings[key][table_name]['rename']\n",
    "        remove = preprocessings[key][table_name]['remove']\n",
    "        for column in lambdas.keys():\n",
    "            table[column] = table[column].apply(lambdas[column])\n",
    "        table.rename(renames, inplace=True, axis=\"columns\", errors=\"raise\")\n",
    "        table.drop(columns=remove, inplace=True)\n",
    "        collection[key][table_name] = table.copy()\n",
    "        table = None"
   ]
  },
  {
   "cell_type": "code",
   "execution_count": 6,
   "metadata": {},
   "outputs": [],
   "source": [
    "# income\n",
    "def income_check1(x):\n",
    "    try:\n",
    "        output = x.split(',')[1]\n",
    "    except:\n",
    "        output = 'bad'\n",
    "    return output\n",
    "\n",
    "collection['county']['diversityindex']['state'] = collection['county']['diversityindex']['Location'].apply(\n",
    "    income_check1)\n",
    "collection['county']['diversityindex'] = collection['county']['diversityindex'][\n",
    "    collection['county']['diversityindex']['state'] != 'bad']\n",
    "collection['county']['diversityindex']['county'] = collection['county']['diversityindex']['Location'].apply(\n",
    "    lambda x: remove_county_word(x.split(', ')[0]))\n",
    "collection['county']['diversityindex'].drop(columns=['Location'], inplace=True)\n",
    "\n",
    "# diversity\n",
    "collection['county']['diversityindex']['state'] = collection['county']['diversityindex']['state'].apply(\n",
    "    lambda x: x.strip())\n",
    "\n",
    "# mortality\n",
    "def mortality_check1(x):\n",
    "    try:\n",
    "        output = x.split(', ')[1]\n",
    "    except:\n",
    "        output = 'bad'\n",
    "    return output\n",
    "\n",
    "collection['county']['mortality']['state'] = collection['county']['mortality']['county'].apply(\n",
    "    mortality_check1).copy()\n",
    "collection['county']['mortality'] = collection['county']['mortality'][\n",
    "    collection['county']['mortality']['state'] != 'bad']\n",
    "collection['county']['mortality']['county'] = collection['county']['mortality']['county'].apply(\n",
    "    lambda x: remove_county_word(x.split(',')[0]))\n",
    "collection['county']['mortality']['state'] = collection['county']['mortality']['state'].apply(\n",
    "    lambda x: state_abbreviations[x])\n",
    "\n",
    "# election\n",
    "collection['county']['election'].drop(columns=['state_po'], inplace=True)\n",
    "collection['county']['election'] = collection['county']['election'][\n",
    "    collection['county']['election']['year'] == 2016]\n",
    "collection['county']['election']['state'] = collection['county']['election']['state'].apply(\n",
    "    lambda x: state_abbreviations[x])\n",
    "output = {\n",
    "    'state': [],\n",
    "    'county': [],\n",
    "    'democrat': [],\n",
    "    'republican': [],\n",
    "    'other': [],\n",
    "}\n",
    "\n",
    "for i in range(collection['county']['election'].shape[0]):\n",
    "    row = collection['county']['election'].iloc[i, :]\n",
    "    output['state'] += [row['state']]\n",
    "    output['county'] += [row['county']]\n",
    "    if row['party'] == 'democrat':\n",
    "        output['democrat'] += [row['candidatevotes']]\n",
    "        output['republican'] += [0]\n",
    "        output['other'] += [0]\n",
    "    elif row['party'] == 'republican':\n",
    "        output['republican'] += [row['candidatevotes']]\n",
    "        output['democrat'] += [0]\n",
    "        output['other'] += [0]\n",
    "    else:\n",
    "        output['republican'] += [0]\n",
    "        output['democrat'] += [0]\n",
    "        output['other'] += [row['candidatevotes']]\n",
    "\n",
    "collection['county']['election'] = pandas.DataFrame(output)\n",
    "\n",
    "## icu beds\n",
    "collection['county']['icu_beds']['state'] = collection['county']['icu_beds']['state'].apply(\n",
    "    lambda x: state_abbreviations[x])\n",
    "\n",
    "## income [removed]\n",
    "# collection['county']['income'] = collection['county']['income'].groupby(\n",
    "#     ['county', 'state']).mean().reset_index().copy()\n",
    "\n",
    "## land and water\n",
    "collection['county']['land_and_water'] = collection['county']['land_and_water'].loc[:,\n",
    "                                         ['state', 'county', 'ALAND', 'AWATER', 'ALAND_SQMI', 'AWATER_SQMI']]"
   ]
  },
  {
   "cell_type": "code",
   "execution_count": 7,
   "metadata": {},
   "outputs": [],
   "source": [
    "mortality = collection['county']['mortality'].copy().drop(columns=[\n",
    "    'Mortality Rate, 1980*',\n",
    "    'Mortality Rate, 1980* (Min)',\n",
    "    'Mortality Rate, 1980* (Max)',\n",
    "    'Mortality Rate, 1985*',\n",
    "    'Mortality Rate, 1985* (Min)',\n",
    "    'Mortality Rate, 1985* (Max)',\n",
    "    'Mortality Rate, 1990*',\n",
    "    'Mortality Rate, 1990* (Min)',\n",
    "    'Mortality Rate, 1990* (Max)',\n",
    "    'Mortality Rate, 1995*',\n",
    "    'Mortality Rate, 1995* (Min)',\n",
    "    'Mortality Rate, 1995* (Max)',\n",
    "    'Mortality Rate, 2000*',\n",
    "    'Mortality Rate, 2000* (Min)',\n",
    "    'Mortality Rate, 2000* (Max)',\n",
    "    'Mortality Rate, 2005*',\n",
    "    'Mortality Rate, 2005* (Min)',\n",
    "    'Mortality Rate, 2005* (Max)',\n",
    "    'Mortality Rate, 2010*',\n",
    "    'Mortality Rate, 2010* (Min)',\n",
    "    'Mortality Rate, 2010* (Max)'\n",
    "]).rename({\n",
    "    'Mortality Rate, 2014*': 'mortality_rate',\n",
    "    'Mortality Rate, 2014* (Min)': 'min_mortality_rate',\n",
    "    'Mortality Rate, 2014* (Max)': 'max_mortality_rate',\n",
    "    '% Change in Mortality Rate, 1980-2014': \"change_in_mortality_rate\",\n",
    "    '% Change in Mortality Rate, 1980-2014 (Min)': \"min_change_in_mortality_rate\",\n",
    "    '% Change in Mortality Rate, 1980-2014 (Max)': \"max_change_in_mortality_rate\"\n",
    "}, inplace=False, axis=\"columns\", errors=\"raise\")\n",
    "mortality = mortality.groupby(['county', 'state']).mean().copy()\n",
    "\n",
    "#todo: shady\n",
    "# census\n",
    "census_full = collection['county']['census_full'].copy()\n",
    "census_full = census_full.groupby(['county', 'state']).mean()\n",
    "\n",
    "land_and_water = collection['county']['land_and_water'].copy()\n",
    "land_and_water = land_and_water.groupby(['county', 'state']).sum()\n",
    "\n",
    "election = collection['county']['election'].copy()\n",
    "election = election.groupby(['county', 'state']).sum()\n",
    "\n",
    "icu_beds = collection['county']['icu_beds'].copy()\n",
    "icu_beds = icu_beds.groupby(['county', 'state']).sum()\n",
    "\n",
    "diversity = collection['county']['diversityindex'].copy()\n",
    "diversity = diversity.groupby(['county', 'state']).sum()\n",
    "\n",
    "# dataframes = [aggregate_covid_county_table, census_full, icu_beds, diversity, election, land_and_water,\n",
    "#               aggregate_income_by_county, mortality]"
   ]
  },
  {
   "cell_type": "code",
   "execution_count": 8,
   "metadata": {},
   "outputs": [],
   "source": [
    "#census_full, icu_beds, diversity, election, land_and_water, mortality"
   ]
  },
  {
   "cell_type": "code",
   "execution_count": 9,
   "metadata": {},
   "outputs": [
    {
     "data": {
      "text/plain": [
       "Index(['diversity_index', 'diversity_black_race', 'diversity_native_race',\n",
       "       'diversity_asian_race', 'diversity_pacific_race',\n",
       "       'diversity_two_or_more_races', 'diversity_hispanic_race',\n",
       "       'diversity_white_race'],\n",
       "      dtype='object')"
      ]
     },
     "execution_count": 9,
     "metadata": {},
     "output_type": "execute_result"
    }
   ],
   "source": [
    "diversity.columns"
   ]
  },
  {
   "cell_type": "code",
   "execution_count": 10,
   "metadata": {},
   "outputs": [
    {
     "data": {
      "text/plain": [
       "Index(['confirmed_date', 'county', 'state', 'confirmed_count', 'death_count',\n",
       "       'recovered_count'],\n",
       "      dtype='object')"
      ]
     },
     "execution_count": 10,
     "metadata": {},
     "output_type": "execute_result"
    }
   ],
   "source": [
    "collection['county']['cases'].columns"
   ]
  },
  {
   "cell_type": "code",
   "execution_count": 12,
   "metadata": {},
   "outputs": [],
   "source": [
    "covid_hospitalizations_df, influenza_activity_level_df = get_cdc_data(os.path.join(path, 'resolution/state/cdc_covid')\n",
    "                                                                    )"
   ]
  },
  {
   "cell_type": "code",
   "execution_count": 13,
   "metadata": {},
   "outputs": [
    {
     "data": {
      "text/html": [
       "<div>\n",
       "<style scoped>\n",
       "    .dataframe tbody tr th:only-of-type {\n",
       "        vertical-align: middle;\n",
       "    }\n",
       "\n",
       "    .dataframe tbody tr th {\n",
       "        vertical-align: top;\n",
       "    }\n",
       "\n",
       "    .dataframe thead th {\n",
       "        text-align: right;\n",
       "    }\n",
       "</style>\n",
       "<table border=\"1\" class=\"dataframe\">\n",
       "  <thead>\n",
       "    <tr style=\"text-align: right;\">\n",
       "      <th></th>\n",
       "      <th>state</th>\n",
       "      <th>state_infleunza_activity_level</th>\n",
       "      <th>confirmed_date</th>\n",
       "      <th>day_of_the_year</th>\n",
       "      <th>location</th>\n",
       "    </tr>\n",
       "  </thead>\n",
       "  <tbody>\n",
       "    <tr>\n",
       "      <th>0</th>\n",
       "      <td>AL</td>\n",
       "      <td>12.0</td>\n",
       "      <td>2020-01-04</td>\n",
       "      <td>3</td>\n",
       "      <td>AL</td>\n",
       "    </tr>\n",
       "    <tr>\n",
       "      <th>1</th>\n",
       "      <td>AK</td>\n",
       "      <td>7.0</td>\n",
       "      <td>2020-01-04</td>\n",
       "      <td>3</td>\n",
       "      <td>AK</td>\n",
       "    </tr>\n",
       "    <tr>\n",
       "      <th>2</th>\n",
       "      <td>AZ</td>\n",
       "      <td>10.0</td>\n",
       "      <td>2020-01-04</td>\n",
       "      <td>3</td>\n",
       "      <td>AZ</td>\n",
       "    </tr>\n",
       "    <tr>\n",
       "      <th>3</th>\n",
       "      <td>AR</td>\n",
       "      <td>8.0</td>\n",
       "      <td>2020-01-04</td>\n",
       "      <td>3</td>\n",
       "      <td>AR</td>\n",
       "    </tr>\n",
       "    <tr>\n",
       "      <th>4</th>\n",
       "      <td>CA</td>\n",
       "      <td>10.0</td>\n",
       "      <td>2020-01-04</td>\n",
       "      <td>3</td>\n",
       "      <td>CA</td>\n",
       "    </tr>\n",
       "    <tr>\n",
       "      <th>...</th>\n",
       "      <td>...</td>\n",
       "      <td>...</td>\n",
       "      <td>...</td>\n",
       "      <td>...</td>\n",
       "      <td>...</td>\n",
       "    </tr>\n",
       "    <tr>\n",
       "      <th>860</th>\n",
       "      <td>WV</td>\n",
       "      <td>1.0</td>\n",
       "      <td>2020-01-19</td>\n",
       "      <td>18</td>\n",
       "      <td>WV</td>\n",
       "    </tr>\n",
       "    <tr>\n",
       "      <th>861</th>\n",
       "      <td>WI</td>\n",
       "      <td>7.0</td>\n",
       "      <td>2020-01-19</td>\n",
       "      <td>18</td>\n",
       "      <td>WI</td>\n",
       "    </tr>\n",
       "    <tr>\n",
       "      <th>862</th>\n",
       "      <td>WY</td>\n",
       "      <td>1.0</td>\n",
       "      <td>2020-01-19</td>\n",
       "      <td>18</td>\n",
       "      <td>WY</td>\n",
       "    </tr>\n",
       "    <tr>\n",
       "      <th>864</th>\n",
       "      <td>PR</td>\n",
       "      <td>6.0</td>\n",
       "      <td>2020-01-19</td>\n",
       "      <td>18</td>\n",
       "      <td>PR</td>\n",
       "    </tr>\n",
       "    <tr>\n",
       "      <th>865</th>\n",
       "      <td>VI</td>\n",
       "      <td>0.0</td>\n",
       "      <td>2020-01-19</td>\n",
       "      <td>18</td>\n",
       "      <td>VI</td>\n",
       "    </tr>\n",
       "  </tbody>\n",
       "</table>\n",
       "<p>848 rows × 5 columns</p>\n",
       "</div>"
      ],
      "text/plain": [
       "    state  state_infleunza_activity_level confirmed_date  day_of_the_year  \\\n",
       "0      AL                            12.0     2020-01-04                3   \n",
       "1      AK                             7.0     2020-01-04                3   \n",
       "2      AZ                            10.0     2020-01-04                3   \n",
       "3      AR                             8.0     2020-01-04                3   \n",
       "4      CA                            10.0     2020-01-04                3   \n",
       "..    ...                             ...            ...              ...   \n",
       "860    WV                             1.0     2020-01-19               18   \n",
       "861    WI                             7.0     2020-01-19               18   \n",
       "862    WY                             1.0     2020-01-19               18   \n",
       "864    PR                             6.0     2020-01-19               18   \n",
       "865    VI                             0.0     2020-01-19               18   \n",
       "\n",
       "    location  \n",
       "0         AL  \n",
       "1         AK  \n",
       "2         AZ  \n",
       "3         AR  \n",
       "4         CA  \n",
       "..       ...  \n",
       "860       WV  \n",
       "861       WI  \n",
       "862       WY  \n",
       "864       PR  \n",
       "865       VI  \n",
       "\n",
       "[848 rows x 5 columns]"
      ]
     },
     "execution_count": 13,
     "metadata": {},
     "output_type": "execute_result"
    }
   ],
   "source": [
    "influenza_activity_level_df"
   ]
  },
  {
   "cell_type": "code",
   "execution_count": 15,
   "metadata": {},
   "outputs": [
    {
     "data": {
      "text/plain": [
       "Index(['state', 'confirmed_date',\n",
       "       'state_cumulative_covid_hospitalization_rate_per_100k_ag0_4',\n",
       "       'state_weekly_covid_hospitalization_rate_per_100k_ag0_4',\n",
       "       'day_of_the_year', 'location',\n",
       "       'state_cumulative_covid_hospitalization_rate_per_100k_ag18_49',\n",
       "       'state_weekly_covid_hospitalization_rate_per_100k_ag18_49',\n",
       "       'state_cumulative_covid_hospitalization_rate_per_100k_ag5_17',\n",
       "       'state_weekly_covid_hospitalization_rate_per_100k_ag5_17',\n",
       "       'state_cumulative_covid_hospitalization_rate_per_100k_ag50_64',\n",
       "       'state_weekly_covid_hospitalization_rate_per_100k_ag50_64',\n",
       "       'state_cumulative_covid_hospitalization_rate_per_100k_ag65p',\n",
       "       'state_weekly_covid_hospitalization_rate_per_100k_ag65p',\n",
       "       'state_cumulative_covid_hospitalization_rate_per_100k_ag65_74',\n",
       "       'state_weekly_covid_hospitalization_rate_per_100k_ag65_74',\n",
       "       'state_cumulative_covid_hospitalization_rate_per_100k_ag75_84',\n",
       "       'state_weekly_covid_hospitalization_rate_per_100k_ag75_84',\n",
       "       'state_cumulative_covid_hospitalization_rate_per_100k_ag85p',\n",
       "       'state_weekly_covid_hospitalization_rate_per_100k_ag85p',\n",
       "       'state_cumulative_covid_hospitalization_rate_per_100k_agoverall',\n",
       "       'state_weekly_covid_hospitalization_rate_per_100k_agoverall'],\n",
       "      dtype='object')"
      ]
     },
     "execution_count": 15,
     "metadata": {},
     "output_type": "execute_result"
    }
   ],
   "source": [
    "covid_hospitalizations_df.columns"
   ]
  },
  {
   "cell_type": "code",
   "execution_count": null,
   "metadata": {},
   "outputs": [],
   "source": []
  }
 ],
 "metadata": {
  "kernelspec": {
   "display_name": "Python 3",
   "language": "python",
   "name": "python3"
  },
  "language_info": {
   "codemirror_mode": {
    "name": "ipython",
    "version": 3
   },
   "file_extension": ".py",
   "mimetype": "text/x-python",
   "name": "python",
   "nbconvert_exporter": "python",
   "pygments_lexer": "ipython3",
   "version": "3.7.4"
  }
 },
 "nbformat": 4,
 "nbformat_minor": 4
}
